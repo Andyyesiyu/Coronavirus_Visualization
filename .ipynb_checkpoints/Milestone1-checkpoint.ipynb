{
 "cells": [
  {
   "cell_type": "code",
   "execution_count": 88,
   "metadata": {},
   "outputs": [],
   "source": [
    "# import our usual things\n",
    "%matplotlib inline\n",
    "import cartopy\n",
    "import pandas as pd\n",
    "import matplotlib.pyplot as plt\n",
    "import geopandas \n",
    "import ipyleaflet\n",
    "import numpy as np\n",
    "import bqplot\n",
    "import ipywidgets"
   ]
  },
  {
   "cell_type": "markdown",
   "metadata": {},
   "source": [
    "## Exploring the data\n",
    "\n"
   ]
  },
  {
   "cell_type": "code",
   "execution_count": 325,
   "metadata": {},
   "outputs": [],
   "source": [
    "full = pd.read_csv('full_data.csv')"
   ]
  },
  {
   "cell_type": "code",
   "execution_count": 90,
   "metadata": {},
   "outputs": [
    {
     "data": {
      "text/html": [
       "<div>\n",
       "<style scoped>\n",
       "    .dataframe tbody tr th:only-of-type {\n",
       "        vertical-align: middle;\n",
       "    }\n",
       "\n",
       "    .dataframe tbody tr th {\n",
       "        vertical-align: top;\n",
       "    }\n",
       "\n",
       "    .dataframe thead th {\n",
       "        text-align: right;\n",
       "    }\n",
       "</style>\n",
       "<table border=\"1\" class=\"dataframe\">\n",
       "  <thead>\n",
       "    <tr style=\"text-align: right;\">\n",
       "      <th></th>\n",
       "      <th>date</th>\n",
       "      <th>location</th>\n",
       "      <th>new_cases</th>\n",
       "      <th>new_deaths</th>\n",
       "      <th>total_cases</th>\n",
       "      <th>total_deaths</th>\n",
       "    </tr>\n",
       "  </thead>\n",
       "  <tbody>\n",
       "    <tr>\n",
       "      <td>0</td>\n",
       "      <td>2019-12-31</td>\n",
       "      <td>Afghanistan</td>\n",
       "      <td>0</td>\n",
       "      <td>0</td>\n",
       "      <td>0</td>\n",
       "      <td>0</td>\n",
       "    </tr>\n",
       "    <tr>\n",
       "      <td>1</td>\n",
       "      <td>2020-01-01</td>\n",
       "      <td>Afghanistan</td>\n",
       "      <td>0</td>\n",
       "      <td>0</td>\n",
       "      <td>0</td>\n",
       "      <td>0</td>\n",
       "    </tr>\n",
       "    <tr>\n",
       "      <td>2</td>\n",
       "      <td>2020-01-02</td>\n",
       "      <td>Afghanistan</td>\n",
       "      <td>0</td>\n",
       "      <td>0</td>\n",
       "      <td>0</td>\n",
       "      <td>0</td>\n",
       "    </tr>\n",
       "    <tr>\n",
       "      <td>3</td>\n",
       "      <td>2020-01-03</td>\n",
       "      <td>Afghanistan</td>\n",
       "      <td>0</td>\n",
       "      <td>0</td>\n",
       "      <td>0</td>\n",
       "      <td>0</td>\n",
       "    </tr>\n",
       "    <tr>\n",
       "      <td>4</td>\n",
       "      <td>2020-01-04</td>\n",
       "      <td>Afghanistan</td>\n",
       "      <td>0</td>\n",
       "      <td>0</td>\n",
       "      <td>0</td>\n",
       "      <td>0</td>\n",
       "    </tr>\n",
       "  </tbody>\n",
       "</table>\n",
       "</div>"
      ],
      "text/plain": [
       "         date     location  new_cases  new_deaths  total_cases  total_deaths\n",
       "0  2019-12-31  Afghanistan          0           0            0             0\n",
       "1  2020-01-01  Afghanistan          0           0            0             0\n",
       "2  2020-01-02  Afghanistan          0           0            0             0\n",
       "3  2020-01-03  Afghanistan          0           0            0             0\n",
       "4  2020-01-04  Afghanistan          0           0            0             0"
      ]
     },
     "execution_count": 90,
     "metadata": {},
     "output_type": "execute_result"
    }
   ],
   "source": [
    "full.head()"
   ]
  },
  {
   "cell_type": "code",
   "execution_count": 342,
   "metadata": {},
   "outputs": [
    {
     "data": {
      "text/plain": [
       "10230"
      ]
     },
     "execution_count": 342,
     "metadata": {},
     "output_type": "execute_result"
    }
   ],
   "source": [
    "len(full)"
   ]
  },
  {
   "cell_type": "code",
   "execution_count": 91,
   "metadata": {},
   "outputs": [],
   "source": [
    "country_all = full[full['location'] == 'United States']"
   ]
  },
  {
   "cell_type": "code",
   "execution_count": 92,
   "metadata": {},
   "outputs": [],
   "source": [
    "country_time = country_all[country_all['total_cases']>100]"
   ]
  },
  {
   "cell_type": "code",
   "execution_count": 93,
   "metadata": {
    "scrolled": false
   },
   "outputs": [
    {
     "data": {
      "text/html": [
       "<div>\n",
       "<style scoped>\n",
       "    .dataframe tbody tr th:only-of-type {\n",
       "        vertical-align: middle;\n",
       "    }\n",
       "\n",
       "    .dataframe tbody tr th {\n",
       "        vertical-align: top;\n",
       "    }\n",
       "\n",
       "    .dataframe thead th {\n",
       "        text-align: right;\n",
       "    }\n",
       "</style>\n",
       "<table border=\"1\" class=\"dataframe\">\n",
       "  <thead>\n",
       "    <tr style=\"text-align: right;\">\n",
       "      <th></th>\n",
       "      <th>date</th>\n",
       "      <th>location</th>\n",
       "      <th>new_cases</th>\n",
       "      <th>new_deaths</th>\n",
       "      <th>total_cases</th>\n",
       "      <th>total_deaths</th>\n",
       "    </tr>\n",
       "  </thead>\n",
       "  <tbody>\n",
       "    <tr>\n",
       "      <td>9811</td>\n",
       "      <td>2020-03-03</td>\n",
       "      <td>United States</td>\n",
       "      <td>14</td>\n",
       "      <td>4</td>\n",
       "      <td>103</td>\n",
       "      <td>6</td>\n",
       "    </tr>\n",
       "    <tr>\n",
       "      <td>9812</td>\n",
       "      <td>2020-03-04</td>\n",
       "      <td>United States</td>\n",
       "      <td>22</td>\n",
       "      <td>3</td>\n",
       "      <td>125</td>\n",
       "      <td>9</td>\n",
       "    </tr>\n",
       "    <tr>\n",
       "      <td>9813</td>\n",
       "      <td>2020-03-05</td>\n",
       "      <td>United States</td>\n",
       "      <td>34</td>\n",
       "      <td>2</td>\n",
       "      <td>159</td>\n",
       "      <td>11</td>\n",
       "    </tr>\n",
       "    <tr>\n",
       "      <td>9814</td>\n",
       "      <td>2020-03-06</td>\n",
       "      <td>United States</td>\n",
       "      <td>74</td>\n",
       "      <td>1</td>\n",
       "      <td>233</td>\n",
       "      <td>12</td>\n",
       "    </tr>\n",
       "    <tr>\n",
       "      <td>9815</td>\n",
       "      <td>2020-03-07</td>\n",
       "      <td>United States</td>\n",
       "      <td>105</td>\n",
       "      <td>2</td>\n",
       "      <td>338</td>\n",
       "      <td>14</td>\n",
       "    </tr>\n",
       "    <tr>\n",
       "      <td>9816</td>\n",
       "      <td>2020-03-08</td>\n",
       "      <td>United States</td>\n",
       "      <td>95</td>\n",
       "      <td>3</td>\n",
       "      <td>433</td>\n",
       "      <td>17</td>\n",
       "    </tr>\n",
       "    <tr>\n",
       "      <td>9817</td>\n",
       "      <td>2020-03-09</td>\n",
       "      <td>United States</td>\n",
       "      <td>121</td>\n",
       "      <td>4</td>\n",
       "      <td>554</td>\n",
       "      <td>21</td>\n",
       "    </tr>\n",
       "    <tr>\n",
       "      <td>9818</td>\n",
       "      <td>2020-03-10</td>\n",
       "      <td>United States</td>\n",
       "      <td>200</td>\n",
       "      <td>5</td>\n",
       "      <td>754</td>\n",
       "      <td>26</td>\n",
       "    </tr>\n",
       "    <tr>\n",
       "      <td>9819</td>\n",
       "      <td>2020-03-11</td>\n",
       "      <td>United States</td>\n",
       "      <td>271</td>\n",
       "      <td>2</td>\n",
       "      <td>1025</td>\n",
       "      <td>28</td>\n",
       "    </tr>\n",
       "    <tr>\n",
       "      <td>9820</td>\n",
       "      <td>2020-03-12</td>\n",
       "      <td>United States</td>\n",
       "      <td>287</td>\n",
       "      <td>2</td>\n",
       "      <td>1312</td>\n",
       "      <td>30</td>\n",
       "    </tr>\n",
       "    <tr>\n",
       "      <td>9821</td>\n",
       "      <td>2020-03-13</td>\n",
       "      <td>United States</td>\n",
       "      <td>351</td>\n",
       "      <td>10</td>\n",
       "      <td>1663</td>\n",
       "      <td>40</td>\n",
       "    </tr>\n",
       "    <tr>\n",
       "      <td>9822</td>\n",
       "      <td>2020-03-14</td>\n",
       "      <td>United States</td>\n",
       "      <td>511</td>\n",
       "      <td>7</td>\n",
       "      <td>2174</td>\n",
       "      <td>47</td>\n",
       "    </tr>\n",
       "    <tr>\n",
       "      <td>9823</td>\n",
       "      <td>2020-03-15</td>\n",
       "      <td>United States</td>\n",
       "      <td>777</td>\n",
       "      <td>10</td>\n",
       "      <td>2951</td>\n",
       "      <td>57</td>\n",
       "    </tr>\n",
       "    <tr>\n",
       "      <td>9824</td>\n",
       "      <td>2020-03-16</td>\n",
       "      <td>United States</td>\n",
       "      <td>823</td>\n",
       "      <td>12</td>\n",
       "      <td>3774</td>\n",
       "      <td>69</td>\n",
       "    </tr>\n",
       "    <tr>\n",
       "      <td>9825</td>\n",
       "      <td>2020-03-17</td>\n",
       "      <td>United States</td>\n",
       "      <td>887</td>\n",
       "      <td>16</td>\n",
       "      <td>4661</td>\n",
       "      <td>85</td>\n",
       "    </tr>\n",
       "    <tr>\n",
       "      <td>9826</td>\n",
       "      <td>2020-03-18</td>\n",
       "      <td>United States</td>\n",
       "      <td>1766</td>\n",
       "      <td>23</td>\n",
       "      <td>6427</td>\n",
       "      <td>108</td>\n",
       "    </tr>\n",
       "    <tr>\n",
       "      <td>9827</td>\n",
       "      <td>2020-03-19</td>\n",
       "      <td>United States</td>\n",
       "      <td>2988</td>\n",
       "      <td>42</td>\n",
       "      <td>9415</td>\n",
       "      <td>150</td>\n",
       "    </tr>\n",
       "    <tr>\n",
       "      <td>9828</td>\n",
       "      <td>2020-03-20</td>\n",
       "      <td>United States</td>\n",
       "      <td>4835</td>\n",
       "      <td>0</td>\n",
       "      <td>14250</td>\n",
       "      <td>150</td>\n",
       "    </tr>\n",
       "    <tr>\n",
       "      <td>9829</td>\n",
       "      <td>2020-03-21</td>\n",
       "      <td>United States</td>\n",
       "      <td>5374</td>\n",
       "      <td>110</td>\n",
       "      <td>19624</td>\n",
       "      <td>260</td>\n",
       "    </tr>\n",
       "    <tr>\n",
       "      <td>9830</td>\n",
       "      <td>2020-03-22</td>\n",
       "      <td>United States</td>\n",
       "      <td>7123</td>\n",
       "      <td>80</td>\n",
       "      <td>26747</td>\n",
       "      <td>340</td>\n",
       "    </tr>\n",
       "    <tr>\n",
       "      <td>9831</td>\n",
       "      <td>2020-03-23</td>\n",
       "      <td>United States</td>\n",
       "      <td>8459</td>\n",
       "      <td>131</td>\n",
       "      <td>35206</td>\n",
       "      <td>471</td>\n",
       "    </tr>\n",
       "    <tr>\n",
       "      <td>9832</td>\n",
       "      <td>2020-03-24</td>\n",
       "      <td>United States</td>\n",
       "      <td>11236</td>\n",
       "      <td>119</td>\n",
       "      <td>46442</td>\n",
       "      <td>590</td>\n",
       "    </tr>\n",
       "    <tr>\n",
       "      <td>9833</td>\n",
       "      <td>2020-03-25</td>\n",
       "      <td>United States</td>\n",
       "      <td>8789</td>\n",
       "      <td>211</td>\n",
       "      <td>55231</td>\n",
       "      <td>801</td>\n",
       "    </tr>\n",
       "    <tr>\n",
       "      <td>9834</td>\n",
       "      <td>2020-03-26</td>\n",
       "      <td>United States</td>\n",
       "      <td>13963</td>\n",
       "      <td>249</td>\n",
       "      <td>69194</td>\n",
       "      <td>1050</td>\n",
       "    </tr>\n",
       "    <tr>\n",
       "      <td>9835</td>\n",
       "      <td>2020-03-27</td>\n",
       "      <td>United States</td>\n",
       "      <td>16797</td>\n",
       "      <td>246</td>\n",
       "      <td>85991</td>\n",
       "      <td>1296</td>\n",
       "    </tr>\n",
       "    <tr>\n",
       "      <td>9836</td>\n",
       "      <td>2020-03-28</td>\n",
       "      <td>United States</td>\n",
       "      <td>18695</td>\n",
       "      <td>411</td>\n",
       "      <td>104686</td>\n",
       "      <td>1707</td>\n",
       "    </tr>\n",
       "    <tr>\n",
       "      <td>9837</td>\n",
       "      <td>2020-03-29</td>\n",
       "      <td>United States</td>\n",
       "      <td>19979</td>\n",
       "      <td>484</td>\n",
       "      <td>124665</td>\n",
       "      <td>2191</td>\n",
       "    </tr>\n",
       "    <tr>\n",
       "      <td>9838</td>\n",
       "      <td>2020-03-30</td>\n",
       "      <td>United States</td>\n",
       "      <td>18360</td>\n",
       "      <td>318</td>\n",
       "      <td>143025</td>\n",
       "      <td>2509</td>\n",
       "    </tr>\n",
       "    <tr>\n",
       "      <td>9839</td>\n",
       "      <td>2020-03-31</td>\n",
       "      <td>United States</td>\n",
       "      <td>21595</td>\n",
       "      <td>661</td>\n",
       "      <td>164620</td>\n",
       "      <td>3170</td>\n",
       "    </tr>\n",
       "    <tr>\n",
       "      <td>9840</td>\n",
       "      <td>2020-04-01</td>\n",
       "      <td>United States</td>\n",
       "      <td>24998</td>\n",
       "      <td>909</td>\n",
       "      <td>189618</td>\n",
       "      <td>4079</td>\n",
       "    </tr>\n",
       "    <tr>\n",
       "      <td>9841</td>\n",
       "      <td>2020-04-02</td>\n",
       "      <td>United States</td>\n",
       "      <td>27103</td>\n",
       "      <td>1059</td>\n",
       "      <td>216721</td>\n",
       "      <td>5138</td>\n",
       "    </tr>\n",
       "    <tr>\n",
       "      <td>9842</td>\n",
       "      <td>2020-04-03</td>\n",
       "      <td>United States</td>\n",
       "      <td>28819</td>\n",
       "      <td>915</td>\n",
       "      <td>245540</td>\n",
       "      <td>6053</td>\n",
       "    </tr>\n",
       "    <tr>\n",
       "      <td>9843</td>\n",
       "      <td>2020-04-04</td>\n",
       "      <td>United States</td>\n",
       "      <td>32425</td>\n",
       "      <td>1104</td>\n",
       "      <td>277965</td>\n",
       "      <td>7157</td>\n",
       "    </tr>\n",
       "    <tr>\n",
       "      <td>9844</td>\n",
       "      <td>2020-04-05</td>\n",
       "      <td>United States</td>\n",
       "      <td>34272</td>\n",
       "      <td>1344</td>\n",
       "      <td>312237</td>\n",
       "      <td>8501</td>\n",
       "    </tr>\n",
       "    <tr>\n",
       "      <td>9845</td>\n",
       "      <td>2020-04-06</td>\n",
       "      <td>United States</td>\n",
       "      <td>25398</td>\n",
       "      <td>1146</td>\n",
       "      <td>337635</td>\n",
       "      <td>9647</td>\n",
       "    </tr>\n",
       "    <tr>\n",
       "      <td>9846</td>\n",
       "      <td>2020-04-07</td>\n",
       "      <td>United States</td>\n",
       "      <td>30561</td>\n",
       "      <td>1342</td>\n",
       "      <td>368196</td>\n",
       "      <td>10989</td>\n",
       "    </tr>\n",
       "    <tr>\n",
       "      <td>9847</td>\n",
       "      <td>2020-04-08</td>\n",
       "      <td>United States</td>\n",
       "      <td>30613</td>\n",
       "      <td>1906</td>\n",
       "      <td>398809</td>\n",
       "      <td>12895</td>\n",
       "    </tr>\n",
       "    <tr>\n",
       "      <td>9848</td>\n",
       "      <td>2020-04-09</td>\n",
       "      <td>United States</td>\n",
       "      <td>33323</td>\n",
       "      <td>1922</td>\n",
       "      <td>432132</td>\n",
       "      <td>14817</td>\n",
       "    </tr>\n",
       "    <tr>\n",
       "      <td>9849</td>\n",
       "      <td>2020-04-10</td>\n",
       "      <td>United States</td>\n",
       "      <td>33901</td>\n",
       "      <td>1873</td>\n",
       "      <td>466033</td>\n",
       "      <td>16690</td>\n",
       "    </tr>\n",
       "    <tr>\n",
       "      <td>9850</td>\n",
       "      <td>2020-04-11</td>\n",
       "      <td>United States</td>\n",
       "      <td>35527</td>\n",
       "      <td>2087</td>\n",
       "      <td>501560</td>\n",
       "      <td>18777</td>\n",
       "    </tr>\n",
       "  </tbody>\n",
       "</table>\n",
       "</div>"
      ],
      "text/plain": [
       "            date       location  new_cases  new_deaths  total_cases  \\\n",
       "9811  2020-03-03  United States         14           4          103   \n",
       "9812  2020-03-04  United States         22           3          125   \n",
       "9813  2020-03-05  United States         34           2          159   \n",
       "9814  2020-03-06  United States         74           1          233   \n",
       "9815  2020-03-07  United States        105           2          338   \n",
       "9816  2020-03-08  United States         95           3          433   \n",
       "9817  2020-03-09  United States        121           4          554   \n",
       "9818  2020-03-10  United States        200           5          754   \n",
       "9819  2020-03-11  United States        271           2         1025   \n",
       "9820  2020-03-12  United States        287           2         1312   \n",
       "9821  2020-03-13  United States        351          10         1663   \n",
       "9822  2020-03-14  United States        511           7         2174   \n",
       "9823  2020-03-15  United States        777          10         2951   \n",
       "9824  2020-03-16  United States        823          12         3774   \n",
       "9825  2020-03-17  United States        887          16         4661   \n",
       "9826  2020-03-18  United States       1766          23         6427   \n",
       "9827  2020-03-19  United States       2988          42         9415   \n",
       "9828  2020-03-20  United States       4835           0        14250   \n",
       "9829  2020-03-21  United States       5374         110        19624   \n",
       "9830  2020-03-22  United States       7123          80        26747   \n",
       "9831  2020-03-23  United States       8459         131        35206   \n",
       "9832  2020-03-24  United States      11236         119        46442   \n",
       "9833  2020-03-25  United States       8789         211        55231   \n",
       "9834  2020-03-26  United States      13963         249        69194   \n",
       "9835  2020-03-27  United States      16797         246        85991   \n",
       "9836  2020-03-28  United States      18695         411       104686   \n",
       "9837  2020-03-29  United States      19979         484       124665   \n",
       "9838  2020-03-30  United States      18360         318       143025   \n",
       "9839  2020-03-31  United States      21595         661       164620   \n",
       "9840  2020-04-01  United States      24998         909       189618   \n",
       "9841  2020-04-02  United States      27103        1059       216721   \n",
       "9842  2020-04-03  United States      28819         915       245540   \n",
       "9843  2020-04-04  United States      32425        1104       277965   \n",
       "9844  2020-04-05  United States      34272        1344       312237   \n",
       "9845  2020-04-06  United States      25398        1146       337635   \n",
       "9846  2020-04-07  United States      30561        1342       368196   \n",
       "9847  2020-04-08  United States      30613        1906       398809   \n",
       "9848  2020-04-09  United States      33323        1922       432132   \n",
       "9849  2020-04-10  United States      33901        1873       466033   \n",
       "9850  2020-04-11  United States      35527        2087       501560   \n",
       "\n",
       "      total_deaths  \n",
       "9811             6  \n",
       "9812             9  \n",
       "9813            11  \n",
       "9814            12  \n",
       "9815            14  \n",
       "9816            17  \n",
       "9817            21  \n",
       "9818            26  \n",
       "9819            28  \n",
       "9820            30  \n",
       "9821            40  \n",
       "9822            47  \n",
       "9823            57  \n",
       "9824            69  \n",
       "9825            85  \n",
       "9826           108  \n",
       "9827           150  \n",
       "9828           150  \n",
       "9829           260  \n",
       "9830           340  \n",
       "9831           471  \n",
       "9832           590  \n",
       "9833           801  \n",
       "9834          1050  \n",
       "9835          1296  \n",
       "9836          1707  \n",
       "9837          2191  \n",
       "9838          2509  \n",
       "9839          3170  \n",
       "9840          4079  \n",
       "9841          5138  \n",
       "9842          6053  \n",
       "9843          7157  \n",
       "9844          8501  \n",
       "9845          9647  \n",
       "9846         10989  \n",
       "9847         12895  \n",
       "9848         14817  \n",
       "9849         16690  \n",
       "9850         18777  "
      ]
     },
     "execution_count": 93,
     "metadata": {},
     "output_type": "execute_result"
    }
   ],
   "source": [
    "country_time"
   ]
  },
  {
   "cell_type": "code",
   "execution_count": 340,
   "metadata": {},
   "outputs": [],
   "source": [
    "# data fetching and cleaning\n",
    "def get_country_data(country):\n",
    "    country_all = full[full['location'] == country]\n",
    "    country_time = country_all[country_all['total_cases']>100]\n",
    "    return country_time"
   ]
  },
  {
   "cell_type": "code",
   "execution_count": 249,
   "metadata": {
    "scrolled": true
   },
   "outputs": [
    {
     "data": {
      "text/plain": [
       "array([  216,   235,   386,   526,   623,   882,  1323,  1988,  2775,\n",
       "        4528,  5994,  7734,  9714, 11809, 14399, 17211, 20448, 24320,\n",
       "       28047, 31207, 34625, 37232, 40206, 42696, 44724, 59865, 64021,\n",
       "       66559, 68566, 70618, 72508, 74258, 74652, 75543, 76369, 77016,\n",
       "       77234, 77749, 78159, 78598, 78927, 79355, 79929, 80134, 80261,\n",
       "       80380, 80497, 80667, 80768, 80814, 80859, 80879, 80908, 80932,\n",
       "       80954, 80973, 80995, 81020, 81063, 81086, 81130, 81229, 81281,\n",
       "       81346, 81484, 81553, 81631, 81733, 81827, 81946, 82059, 82157,\n",
       "       82241, 82295, 82395, 82465, 82527, 82575, 82642, 82698, 82784,\n",
       "       82870, 82925, 83004])"
      ]
     },
     "execution_count": 249,
     "metadata": {},
     "output_type": "execute_result"
    }
   ],
   "source": [
    "np.array(get_country_data('China')['total_cases'])"
   ]
  },
  {
   "cell_type": "code",
   "execution_count": 271,
   "metadata": {},
   "outputs": [],
   "source": [
    "n1 = np.fromiter(get_country_data('China')['total_cases'], dtype=\"int\")"
   ]
  },
  {
   "cell_type": "code",
   "execution_count": 272,
   "metadata": {},
   "outputs": [],
   "source": [
    "n2 = np.fromiter(get_country_data('Italy')['total_cases'], dtype=\"int\")"
   ]
  },
  {
   "cell_type": "code",
   "execution_count": 273,
   "metadata": {},
   "outputs": [],
   "source": [
    "n = []\n",
    "n.append(n1)\n",
    "n.append(n2)"
   ]
  },
  {
   "cell_type": "code",
   "execution_count": 296,
   "metadata": {},
   "outputs": [
    {
     "data": {
      "text/plain": [
       "array([[inf, inf],\n",
       "       [inf, inf]])"
      ]
     },
     "execution_count": 296,
     "metadata": {},
     "output_type": "execute_result"
    }
   ],
   "source": [
    "np.full((2, 2), np.inf)"
   ]
  },
  {
   "cell_type": "code",
   "execution_count": 330,
   "metadata": {
    "scrolled": true
   },
   "outputs": [
    {
     "data": {
      "text/plain": [
       "array([1.32000e+02, 2.29000e+02, 3.22000e+02, 4.00000e+02, 6.50000e+02,\n",
       "       8.88000e+02, 1.12800e+03, 1.68900e+03, 2.03600e+03, 2.50200e+03,\n",
       "       3.08900e+03, 3.85800e+03, 4.63600e+03, 5.88300e+03, 7.37500e+03,\n",
       "       9.17200e+03, 1.01490e+04, 1.24620e+04, 1.51130e+04, 1.76600e+04,\n",
       "       2.11570e+04, 2.39800e+04, 2.79800e+04, 3.15060e+04, 3.57130e+04,\n",
       "       4.10350e+04, 4.70210e+04, 5.35780e+04, 5.91380e+04, 6.39270e+04,\n",
       "       6.91760e+04, 7.43860e+04, 8.05390e+04, 8.64980e+04, 9.24720e+04,\n",
       "       9.76890e+04, 1.01739e+05, 1.05792e+05, 1.10574e+05, 1.15242e+05,\n",
       "       1.19827e+05, 1.24632e+05, 1.28948e+05, 1.32547e+05, 1.35586e+05,\n",
       "       1.39422e+05, 1.43626e+05, 1.47577e+05,         nan,         nan])"
      ]
     },
     "execution_count": 330,
     "metadata": {},
     "output_type": "execute_result"
    }
   ],
   "source": [
    "np.concatenate((n2,np.full((2, ), np.nan)))"
   ]
  },
  {
   "cell_type": "markdown",
   "metadata": {},
   "source": [
    "#### Fill the array to be the same length"
   ]
  },
  {
   "cell_type": "code",
   "execution_count": 341,
   "metadata": {},
   "outputs": [],
   "source": [
    "# To plot a beautiful plot in bqplot we should have all the lines in same np.arry length\n",
    "def transformToNp(arrays):\n",
    "    max_len = max([len(a) for a in arrays])\n",
    "    return np.array([np.concatenate((np.array(a),np.full((max_len-len(a), ), np.nan))) for a in arrays])"
   ]
  },
  {
   "cell_type": "code",
   "execution_count": 333,
   "metadata": {},
   "outputs": [],
   "source": [
    "from bqplot import pyplot as plt"
   ]
  },
  {
   "cell_type": "code",
   "execution_count": 334,
   "metadata": {},
   "outputs": [],
   "source": [
    "colors = [\"#F70020\",\"#191A1A\",\"#FB9701\",\"#1A7D00\",\"#072C8F\",\"#9E9E9E\"]"
   ]
  },
  {
   "cell_type": "code",
   "execution_count": 335,
   "metadata": {},
   "outputs": [],
   "source": [
    "def make_line_chart(countries, log, confirm):\n",
    "    x_sc = bqplot.LinearScale(min=1)\n",
    "    # lets do one y-scale over linear and 1 over log\n",
    "    y_scLinear = bqplot.LinearScale(min=100)\n",
    "    y_scLog = bqplot.LogScale()\n",
    "    y_sc = y_scLog if log else y_scLinear\n",
    "    \n",
    "    indexes = range(1,51)\n",
    "    lines = []\n",
    "    def_tt = bqplot.Tooltip(fields=['x', 'y'], formats=['', '.0f'], labels=['Country', 'Number'])\n",
    "\n",
    "    ys = []\n",
    "    for ind,country in enumerate(countries):\n",
    "        choose = 'total_cases' if confirm else 'total_deaths'\n",
    "        ys.append(np.fromiter(get_country_data(country)[choose], dtype=\"int\"))\n",
    "    ys = transformToNp(ys)\n",
    "    lines.append(bqplot.Lines(x = indexes, y = ys, \n",
    "                                      scales = {'x': x_sc, 'y': y_sc},marker_size=32,marker='circle',colors=colors))\n",
    "\n",
    "    # and lets plot an x axis like before\n",
    "    ax_x = bqplot.Axis(scale = x_sc, label = 'Day')\n",
    "    # y axis for linear/log presentation\n",
    "    ax_y = bqplot.Axis(scale = y_sc, label = 'Cases', \n",
    "                        orientation = 'vertical')\n",
    "    # lets allow pan and zoom\n",
    "\n",
    "    selector = bqplot.interacts.IndexSelector(line_width=1,scale = x_sc) \n",
    "    def print_change(change):\n",
    "        l.value = str(change)\n",
    "#     selector.observe(print_change, names=['brushing'])\n",
    "    #bqplot.interacts.PanZoom?\n",
    "    \n",
    "    \n",
    "    fig = bqplot.Figure(marks = lines, \n",
    "                        axes = [ax_x, ax_y],interaction=selector)\n",
    "    #display(fig)\n",
    "    l = ipywidgets.Label()\n",
    "    ipywidgets.jslink((fig.interaction, 'selected'),(l,'value'))\n",
    "    return fig,l"
   ]
  },
  {
   "cell_type": "code",
   "execution_count": 336,
   "metadata": {
    "scrolled": true
   },
   "outputs": [],
   "source": [
    "f,l= make_line_chart(['China','United States','Italy'],True,True)\n"
   ]
  },
  {
   "cell_type": "code",
   "execution_count": 337,
   "metadata": {},
   "outputs": [
    {
     "data": {
      "application/vnd.jupyter.widget-view+json": {
       "model_id": "157f2dfc6aa44a3d8c59c26519be16d9",
       "version_major": 2,
       "version_minor": 0
      },
      "text/plain": [
       "Label(value='')"
      ]
     },
     "metadata": {},
     "output_type": "display_data"
    }
   ],
   "source": [
    "display(l)"
   ]
  },
  {
   "cell_type": "code",
   "execution_count": 338,
   "metadata": {
    "scrolled": false
   },
   "outputs": [
    {
     "data": {
      "application/vnd.jupyter.widget-view+json": {
       "model_id": "c7f2f658bbbb4d859cba370defc04a8a",
       "version_major": 2,
       "version_minor": 0
      },
      "text/plain": [
       "Figure(axes=[Axis(label='Day', scale=LinearScale(min=1.0), side='bottom'), Axis(label='Cases', orientation='ve…"
      ]
     },
     "metadata": {},
     "output_type": "display_data"
    }
   ],
   "source": [
    "display(f)"
   ]
  },
  {
   "cell_type": "code",
   "execution_count": 339,
   "metadata": {},
   "outputs": [
    {
     "data": {
      "application/vnd.jupyter.widget-view+json": {
       "model_id": "a4a78fa07564438b99fe6a8e197db97c",
       "version_major": 2,
       "version_minor": 0
      },
      "text/plain": [
       "VBox(children=(VBox(children=(SelectMultiple(description='Fruits', index=(0, 1, 2), options=('China', 'United …"
      ]
     },
     "metadata": {},
     "output_type": "display_data"
    }
   ],
   "source": [
    "from IPython.display import display, clear_output\n",
    "# f = make_line_chart(['China','United States','Italy'],True)\n",
    "%config InlineBackend.close_figures=False\n",
    "\n",
    "# plt.ioff()\n",
    "# plt.close('all') # if you get a \"too many figures open\" warning\n",
    "default_countries = ['China','United States','Italy']\n",
    "\n",
    "country_select = ipywidgets.SelectMultiple(\n",
    "    options=['China','United States','Italy','United Kingdom','France','India'],\n",
    "    value=default_countries,\n",
    "    #rows=10,\n",
    "    description='Fruits',\n",
    "    disabled=False\n",
    ")\n",
    "confirm_select = ipywidgets.ToggleButtons(\n",
    "    options=['Confirmed', 'Death'],\n",
    "#     description='Speed:',\n",
    "    disabled=False,\n",
    "    button_style='', # 'success', 'info', 'warning', 'danger' or ''\n",
    "    tooltips=['Confirmed Cases', 'Death Cases'],\n",
    "#     icons=['check'] * 3\n",
    ")\n",
    "\n",
    "log_select = ipywidgets.Checkbox(\n",
    "    value=True,\n",
    "    description='Log',\n",
    "    disabled=False,\n",
    "    indent=True\n",
    ")\n",
    "\n",
    "check = ipywidgets.Button(\n",
    "    description='Click me to update',\n",
    "    disabled=False,\n",
    "    button_style='', \n",
    "    tooltip='Change'\n",
    ")\n",
    "selects = ipywidgets.HBox([confirm_select,log_select,check])\n",
    "controls = ipywidgets.VBox([country_select,selects])\n",
    "# controls.layout.top = '200px'\n",
    "\n",
    "out = ipywidgets.Output()  # NEW WIDGET CALL\n",
    "\n",
    "# print('1')\n",
    "\n",
    "\n",
    "def update(change):\n",
    "    if confirm_select.value == 'Confirmed':\n",
    "        c_s = True\n",
    "    else:\n",
    "        c_s = False\n",
    "    countries = country_select.value\n",
    "    fig,label = make_line_chart(countries, log_select.value, c_s)\n",
    "    with out:\n",
    "        clear_output()\n",
    "        display(fig)\n",
    "        display(label)\n",
    "vbox = ipywidgets.VBox([controls,out])\n",
    "display(vbox)\n",
    "check.on_click(update)\n",
    "update(None)\n",
    "# display(vbox)"
   ]
  },
  {
   "cell_type": "markdown",
   "metadata": {},
   "source": [
    "## Summarize"
   ]
  },
  {
   "cell_type": "markdown",
   "metadata": {},
   "source": [
    "This dataset includes the total daily data of confirmed and dead cases of coronavirus. It includes 6 rows:\n",
    "* 1. date: Date yyyy-mm-dd.\n",
    "* 2. location: String. Country Name\n",
    "* 3. new_cases: Int. New confirmed case number in that day.\n",
    "* 4. new_deaths: Int. New death number in that day.\n",
    "* 5. total_cases: Int. Total confirmed cases until that day.\n",
    "* 6. total_deaths: Int. Total death cases until that day.\n",
    "Every row is a country's data in a specific day."
   ]
  },
  {
   "cell_type": "markdown",
   "metadata": {},
   "source": [
    "The name of the dataset is called: Coronavirus daily data summary. Comes from https://data.world/markmarkoh/coronavirus-data/workspace/project-summary?agentid=markmarkoh&datasetid=coronavirus-data"
   ]
  },
  {
   "cell_type": "markdown",
   "metadata": {},
   "source": [
    "According to the data summary, the author sychronizes data every day from official CDC and WHO websites. https://ourworldindata.org/coronavirus-source-data"
   ]
  },
  {
   "cell_type": "markdown",
   "metadata": {},
   "source": [
    "In the dataset project, it said it's shared with Everyone, according to the Data World help page: \"The work has been dedicated to the public domain by waiving all rights to the work worldwide under copyright law, including all related and neighboring rights, to the extent allowed by law.\" https://data.world/license-help"
   ]
  },
  {
   "cell_type": "markdown",
   "metadata": {},
   "source": [
    "It is a small dataset as this pandemic just happend this year, the total size is 311KB and with 10230 rows and 6 columns. "
   ]
  },
  {
   "cell_type": "markdown",
   "metadata": {},
   "source": [
    "A simple data visulization dashboard is attached above."
   ]
  }
 ],
 "metadata": {
  "kernelspec": {
   "display_name": "Python 3",
   "language": "python",
   "name": "python3"
  },
  "language_info": {
   "codemirror_mode": {
    "name": "ipython",
    "version": 3
   },
   "file_extension": ".py",
   "mimetype": "text/x-python",
   "name": "python",
   "nbconvert_exporter": "python",
   "pygments_lexer": "ipython3",
   "version": "3.7.6"
  }
 },
 "nbformat": 4,
 "nbformat_minor": 4
}
